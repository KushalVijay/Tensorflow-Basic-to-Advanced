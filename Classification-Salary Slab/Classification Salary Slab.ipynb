{
 "cells": [
  {
   "cell_type": "code",
   "execution_count": 2,
   "metadata": {},
   "outputs": [],
   "source": [
    "import pandas as pd"
   ]
  },
  {
   "cell_type": "code",
   "execution_count": 3,
   "metadata": {},
   "outputs": [],
   "source": [
    "census = pd.read_csv(\"Salary_data.csv\")"
   ]
  },
  {
   "cell_type": "code",
   "execution_count": 4,
   "metadata": {
    "collapsed": true
   },
   "outputs": [
    {
     "data": {
      "text/html": [
       "<div>\n",
       "<style scoped>\n",
       "    .dataframe tbody tr th:only-of-type {\n",
       "        vertical-align: middle;\n",
       "    }\n",
       "\n",
       "    .dataframe tbody tr th {\n",
       "        vertical-align: top;\n",
       "    }\n",
       "\n",
       "    .dataframe thead th {\n",
       "        text-align: right;\n",
       "    }\n",
       "</style>\n",
       "<table border=\"1\" class=\"dataframe\">\n",
       "  <thead>\n",
       "    <tr style=\"text-align: right;\">\n",
       "      <th></th>\n",
       "      <th>age</th>\n",
       "      <th>workclass</th>\n",
       "      <th>education</th>\n",
       "      <th>education_num</th>\n",
       "      <th>marital_status</th>\n",
       "      <th>occupation</th>\n",
       "      <th>relationship</th>\n",
       "      <th>race</th>\n",
       "      <th>gender</th>\n",
       "      <th>capital_gain</th>\n",
       "      <th>capital_loss</th>\n",
       "      <th>hours_per_week</th>\n",
       "      <th>native_country</th>\n",
       "      <th>income_bracket</th>\n",
       "    </tr>\n",
       "  </thead>\n",
       "  <tbody>\n",
       "    <tr>\n",
       "      <th>0</th>\n",
       "      <td>39</td>\n",
       "      <td>State-gov</td>\n",
       "      <td>Bachelors</td>\n",
       "      <td>13</td>\n",
       "      <td>Never-married</td>\n",
       "      <td>Adm-clerical</td>\n",
       "      <td>Not-in-family</td>\n",
       "      <td>White</td>\n",
       "      <td>Male</td>\n",
       "      <td>2174</td>\n",
       "      <td>0</td>\n",
       "      <td>40</td>\n",
       "      <td>United-States</td>\n",
       "      <td>&lt;=50K</td>\n",
       "    </tr>\n",
       "    <tr>\n",
       "      <th>1</th>\n",
       "      <td>50</td>\n",
       "      <td>Self-emp-not-inc</td>\n",
       "      <td>Bachelors</td>\n",
       "      <td>13</td>\n",
       "      <td>Married-civ-spouse</td>\n",
       "      <td>Exec-managerial</td>\n",
       "      <td>Husband</td>\n",
       "      <td>White</td>\n",
       "      <td>Male</td>\n",
       "      <td>0</td>\n",
       "      <td>0</td>\n",
       "      <td>13</td>\n",
       "      <td>United-States</td>\n",
       "      <td>&lt;=50K</td>\n",
       "    </tr>\n",
       "    <tr>\n",
       "      <th>2</th>\n",
       "      <td>38</td>\n",
       "      <td>Private</td>\n",
       "      <td>HS-grad</td>\n",
       "      <td>9</td>\n",
       "      <td>Divorced</td>\n",
       "      <td>Handlers-cleaners</td>\n",
       "      <td>Not-in-family</td>\n",
       "      <td>White</td>\n",
       "      <td>Male</td>\n",
       "      <td>0</td>\n",
       "      <td>0</td>\n",
       "      <td>40</td>\n",
       "      <td>United-States</td>\n",
       "      <td>&lt;=50K</td>\n",
       "    </tr>\n",
       "    <tr>\n",
       "      <th>3</th>\n",
       "      <td>53</td>\n",
       "      <td>Private</td>\n",
       "      <td>11th</td>\n",
       "      <td>7</td>\n",
       "      <td>Married-civ-spouse</td>\n",
       "      <td>Handlers-cleaners</td>\n",
       "      <td>Husband</td>\n",
       "      <td>Black</td>\n",
       "      <td>Male</td>\n",
       "      <td>0</td>\n",
       "      <td>0</td>\n",
       "      <td>40</td>\n",
       "      <td>United-States</td>\n",
       "      <td>&lt;=50K</td>\n",
       "    </tr>\n",
       "    <tr>\n",
       "      <th>4</th>\n",
       "      <td>28</td>\n",
       "      <td>Private</td>\n",
       "      <td>Bachelors</td>\n",
       "      <td>13</td>\n",
       "      <td>Married-civ-spouse</td>\n",
       "      <td>Prof-specialty</td>\n",
       "      <td>Wife</td>\n",
       "      <td>Black</td>\n",
       "      <td>Female</td>\n",
       "      <td>0</td>\n",
       "      <td>0</td>\n",
       "      <td>40</td>\n",
       "      <td>Cuba</td>\n",
       "      <td>&lt;=50K</td>\n",
       "    </tr>\n",
       "  </tbody>\n",
       "</table>\n",
       "</div>"
      ],
      "text/plain": [
       "   age          workclass   education  education_num       marital_status  \\\n",
       "0   39          State-gov   Bachelors             13        Never-married   \n",
       "1   50   Self-emp-not-inc   Bachelors             13   Married-civ-spouse   \n",
       "2   38            Private     HS-grad              9             Divorced   \n",
       "3   53            Private        11th              7   Married-civ-spouse   \n",
       "4   28            Private   Bachelors             13   Married-civ-spouse   \n",
       "\n",
       "           occupation    relationship    race   gender  capital_gain  \\\n",
       "0        Adm-clerical   Not-in-family   White     Male          2174   \n",
       "1     Exec-managerial         Husband   White     Male             0   \n",
       "2   Handlers-cleaners   Not-in-family   White     Male             0   \n",
       "3   Handlers-cleaners         Husband   Black     Male             0   \n",
       "4      Prof-specialty            Wife   Black   Female             0   \n",
       "\n",
       "   capital_loss  hours_per_week  native_country income_bracket  \n",
       "0             0              40   United-States          <=50K  \n",
       "1             0              13   United-States          <=50K  \n",
       "2             0              40   United-States          <=50K  \n",
       "3             0              40   United-States          <=50K  \n",
       "4             0              40            Cuba          <=50K  "
      ]
     },
     "execution_count": 4,
     "metadata": {},
     "output_type": "execute_result"
    }
   ],
   "source": [
    "census.head()"
   ]
  },
  {
   "cell_type": "code",
   "execution_count": 5,
   "metadata": {},
   "outputs": [
    {
     "data": {
      "text/plain": [
       "array([' <=50K', ' >50K'], dtype=object)"
      ]
     },
     "execution_count": 5,
     "metadata": {},
     "output_type": "execute_result"
    }
   ],
   "source": [
    "census['income_bracket'].unique()"
   ]
  },
  {
   "cell_type": "code",
   "execution_count": 6,
   "metadata": {},
   "outputs": [],
   "source": [
    "def label_fix(label):\n",
    "    if label==' <=50K':\n",
    "        return 0\n",
    "    else:\n",
    "        return 1"
   ]
  },
  {
   "cell_type": "code",
   "execution_count": 7,
   "metadata": {},
   "outputs": [],
   "source": [
    "census['income_bracket'] = census['income_bracket'].apply(label_fix)"
   ]
  },
  {
   "cell_type": "code",
   "execution_count": 8,
   "metadata": {
    "collapsed": true
   },
   "outputs": [
    {
     "data": {
      "text/html": [
       "<div>\n",
       "<style scoped>\n",
       "    .dataframe tbody tr th:only-of-type {\n",
       "        vertical-align: middle;\n",
       "    }\n",
       "\n",
       "    .dataframe tbody tr th {\n",
       "        vertical-align: top;\n",
       "    }\n",
       "\n",
       "    .dataframe thead th {\n",
       "        text-align: right;\n",
       "    }\n",
       "</style>\n",
       "<table border=\"1\" class=\"dataframe\">\n",
       "  <thead>\n",
       "    <tr style=\"text-align: right;\">\n",
       "      <th></th>\n",
       "      <th>age</th>\n",
       "      <th>workclass</th>\n",
       "      <th>education</th>\n",
       "      <th>education_num</th>\n",
       "      <th>marital_status</th>\n",
       "      <th>occupation</th>\n",
       "      <th>relationship</th>\n",
       "      <th>race</th>\n",
       "      <th>gender</th>\n",
       "      <th>capital_gain</th>\n",
       "      <th>capital_loss</th>\n",
       "      <th>hours_per_week</th>\n",
       "      <th>native_country</th>\n",
       "      <th>income_bracket</th>\n",
       "    </tr>\n",
       "  </thead>\n",
       "  <tbody>\n",
       "    <tr>\n",
       "      <th>0</th>\n",
       "      <td>39</td>\n",
       "      <td>State-gov</td>\n",
       "      <td>Bachelors</td>\n",
       "      <td>13</td>\n",
       "      <td>Never-married</td>\n",
       "      <td>Adm-clerical</td>\n",
       "      <td>Not-in-family</td>\n",
       "      <td>White</td>\n",
       "      <td>Male</td>\n",
       "      <td>2174</td>\n",
       "      <td>0</td>\n",
       "      <td>40</td>\n",
       "      <td>United-States</td>\n",
       "      <td>0</td>\n",
       "    </tr>\n",
       "    <tr>\n",
       "      <th>1</th>\n",
       "      <td>50</td>\n",
       "      <td>Self-emp-not-inc</td>\n",
       "      <td>Bachelors</td>\n",
       "      <td>13</td>\n",
       "      <td>Married-civ-spouse</td>\n",
       "      <td>Exec-managerial</td>\n",
       "      <td>Husband</td>\n",
       "      <td>White</td>\n",
       "      <td>Male</td>\n",
       "      <td>0</td>\n",
       "      <td>0</td>\n",
       "      <td>13</td>\n",
       "      <td>United-States</td>\n",
       "      <td>0</td>\n",
       "    </tr>\n",
       "    <tr>\n",
       "      <th>2</th>\n",
       "      <td>38</td>\n",
       "      <td>Private</td>\n",
       "      <td>HS-grad</td>\n",
       "      <td>9</td>\n",
       "      <td>Divorced</td>\n",
       "      <td>Handlers-cleaners</td>\n",
       "      <td>Not-in-family</td>\n",
       "      <td>White</td>\n",
       "      <td>Male</td>\n",
       "      <td>0</td>\n",
       "      <td>0</td>\n",
       "      <td>40</td>\n",
       "      <td>United-States</td>\n",
       "      <td>0</td>\n",
       "    </tr>\n",
       "    <tr>\n",
       "      <th>3</th>\n",
       "      <td>53</td>\n",
       "      <td>Private</td>\n",
       "      <td>11th</td>\n",
       "      <td>7</td>\n",
       "      <td>Married-civ-spouse</td>\n",
       "      <td>Handlers-cleaners</td>\n",
       "      <td>Husband</td>\n",
       "      <td>Black</td>\n",
       "      <td>Male</td>\n",
       "      <td>0</td>\n",
       "      <td>0</td>\n",
       "      <td>40</td>\n",
       "      <td>United-States</td>\n",
       "      <td>0</td>\n",
       "    </tr>\n",
       "    <tr>\n",
       "      <th>4</th>\n",
       "      <td>28</td>\n",
       "      <td>Private</td>\n",
       "      <td>Bachelors</td>\n",
       "      <td>13</td>\n",
       "      <td>Married-civ-spouse</td>\n",
       "      <td>Prof-specialty</td>\n",
       "      <td>Wife</td>\n",
       "      <td>Black</td>\n",
       "      <td>Female</td>\n",
       "      <td>0</td>\n",
       "      <td>0</td>\n",
       "      <td>40</td>\n",
       "      <td>Cuba</td>\n",
       "      <td>0</td>\n",
       "    </tr>\n",
       "  </tbody>\n",
       "</table>\n",
       "</div>"
      ],
      "text/plain": [
       "   age          workclass   education  education_num       marital_status  \\\n",
       "0   39          State-gov   Bachelors             13        Never-married   \n",
       "1   50   Self-emp-not-inc   Bachelors             13   Married-civ-spouse   \n",
       "2   38            Private     HS-grad              9             Divorced   \n",
       "3   53            Private        11th              7   Married-civ-spouse   \n",
       "4   28            Private   Bachelors             13   Married-civ-spouse   \n",
       "\n",
       "           occupation    relationship    race   gender  capital_gain  \\\n",
       "0        Adm-clerical   Not-in-family   White     Male          2174   \n",
       "1     Exec-managerial         Husband   White     Male             0   \n",
       "2   Handlers-cleaners   Not-in-family   White     Male             0   \n",
       "3   Handlers-cleaners         Husband   Black     Male             0   \n",
       "4      Prof-specialty            Wife   Black   Female             0   \n",
       "\n",
       "   capital_loss  hours_per_week  native_country  income_bracket  \n",
       "0             0              40   United-States               0  \n",
       "1             0              13   United-States               0  \n",
       "2             0              40   United-States               0  \n",
       "3             0              40   United-States               0  \n",
       "4             0              40            Cuba               0  "
      ]
     },
     "execution_count": 8,
     "metadata": {},
     "output_type": "execute_result"
    }
   ],
   "source": [
    "census.head()"
   ]
  },
  {
   "cell_type": "code",
   "execution_count": 9,
   "metadata": {},
   "outputs": [],
   "source": [
    "from sklearn.model_selection import train_test_split"
   ]
  },
  {
   "cell_type": "code",
   "execution_count": 10,
   "metadata": {},
   "outputs": [],
   "source": [
    "x_data = census.drop('income_bracket',axis=1)"
   ]
  },
  {
   "cell_type": "code",
   "execution_count": 11,
   "metadata": {},
   "outputs": [],
   "source": [
    "y_labels = census['income_bracket']"
   ]
  },
  {
   "cell_type": "code",
   "execution_count": 12,
   "metadata": {},
   "outputs": [],
   "source": [
    "X_train, X_test, y_train, y_test = train_test_split(x_data, y_labels, test_size=0.30, random_state=101)"
   ]
  },
  {
   "cell_type": "code",
   "execution_count": 13,
   "metadata": {},
   "outputs": [
    {
     "data": {
      "text/plain": [
       "Index(['age', 'workclass', 'education', 'education_num', 'marital_status',\n",
       "       'occupation', 'relationship', 'race', 'gender', 'capital_gain',\n",
       "       'capital_loss', 'hours_per_week', 'native_country', 'income_bracket'],\n",
       "      dtype='object')"
      ]
     },
     "execution_count": 13,
     "metadata": {},
     "output_type": "execute_result"
    }
   ],
   "source": [
    "census.columns"
   ]
  },
  {
   "cell_type": "code",
   "execution_count": 15,
   "metadata": {},
   "outputs": [],
   "source": [
    "import tensorflow as tf"
   ]
  },
  {
   "cell_type": "code",
   "execution_count": 16,
   "metadata": {},
   "outputs": [],
   "source": [
    "gender = tf.feature_column.categorical_column_with_vocabulary_list(\"gender\",[\"Female\",\"Male\"])"
   ]
  },
  {
   "cell_type": "code",
   "execution_count": 17,
   "metadata": {},
   "outputs": [],
   "source": [
    "occupation = tf.feature_column.categorical_column_with_hash_bucket(\"occupation\",hash_bucket_size=1000)"
   ]
  },
  {
   "cell_type": "code",
   "execution_count": 18,
   "metadata": {},
   "outputs": [],
   "source": [
    "marital_status = tf.feature_column.categorical_column_with_hash_bucket(\"marital_status\",hash_bucket_size=1000)\n",
    "relationship = tf.feature_column.categorical_column_with_hash_bucket(\"relationship\",hash_bucket_size=1000)\n",
    "education = tf.feature_column.categorical_column_with_hash_bucket(\"education\",hash_bucket_size=1000)\n",
    "workclass = tf.feature_column.categorical_column_with_hash_bucket(\"workclass\",hash_bucket_size=1000)\n",
    "native_country = tf.feature_column.categorical_column_with_hash_bucket(\"native_country\",hash_bucket_size=1000)"
   ]
  },
  {
   "cell_type": "code",
   "execution_count": 19,
   "metadata": {},
   "outputs": [],
   "source": [
    "age = tf.feature_column.numeric_column(\"age\")\n",
    "education_num = tf.feature_column.numeric_column(\"education_num\")\n",
    "capital_gain = tf.feature_column.numeric_column(\"capital_gain\")\n",
    "capital_loss = tf.feature_column.numeric_column(\"capital_loss\")\n",
    "hours_per_week = tf.feature_column.numeric_column(\"hours_per_week\")"
   ]
  },
  {
   "cell_type": "code",
   "execution_count": 20,
   "metadata": {},
   "outputs": [],
   "source": [
    "feat_cols = [gender,occupation,marital_status,relationship,education,workclass,native_country,age,education_num,capital_gain,capital_loss,hours_per_week]"
   ]
  },
  {
   "cell_type": "code",
   "execution_count": 21,
   "metadata": {},
   "outputs": [],
   "source": [
    "input_func = tf.estimator.inputs.pandas_input_fn(x=X_train,y=y_train,batch_size=100,num_epochs=None,shuffle=True)"
   ]
  },
  {
   "cell_type": "code",
   "execution_count": 23,
   "metadata": {
    "collapsed": true
   },
   "outputs": [
    {
     "name": "stdout",
     "output_type": "stream",
     "text": [
      "INFO:tensorflow:Using default config.\n",
      "WARNING:tensorflow:Using temporary folder as model directory: C:\\Users\\DeLL\\AppData\\Local\\Temp\\tmpxt57zyfv\n",
      "INFO:tensorflow:Using config: {'_model_dir': 'C:\\\\Users\\\\DeLL\\\\AppData\\\\Local\\\\Temp\\\\tmpxt57zyfv', '_tf_random_seed': None, '_save_summary_steps': 100, '_save_checkpoints_steps': None, '_save_checkpoints_secs': 600, '_session_config': allow_soft_placement: true\n",
      "graph_options {\n",
      "  rewrite_options {\n",
      "    meta_optimizer_iterations: ONE\n",
      "  }\n",
      "}\n",
      ", '_keep_checkpoint_max': 5, '_keep_checkpoint_every_n_hours': 10000, '_log_step_count_steps': 100, '_train_distribute': None, '_device_fn': None, '_protocol': None, '_eval_distribute': None, '_experimental_distribute': None, '_experimental_max_worker_delay_secs': None, '_service': None, '_cluster_spec': <tensorflow.python.training.server_lib.ClusterSpec object at 0x00000158342179E8>, '_task_type': 'worker', '_task_id': 0, '_global_id_in_cluster': 0, '_master': '', '_evaluation_master': '', '_is_chief': True, '_num_ps_replicas': 0, '_num_worker_replicas': 1}\n"
     ]
    }
   ],
   "source": [
    "model = tf.estimator.LinearClassifier(feature_columns=feat_cols)"
   ]
  },
  {
   "cell_type": "code",
   "execution_count": 24,
   "metadata": {
    "collapsed": true
   },
   "outputs": [
    {
     "name": "stdout",
     "output_type": "stream",
     "text": [
      "WARNING:tensorflow:From c:\\program files\\python37\\lib\\site-packages\\tensorflow\\python\\training\\training_util.py:236: Variable.initialized_value (from tensorflow.python.ops.variables) is deprecated and will be removed in a future version.\n",
      "Instructions for updating:\n",
      "Use Variable.read_value. Variables in 2.X are initialized automatically both in eager and graph (inside tf.defun) contexts.\n",
      "WARNING:tensorflow:From c:\\program files\\python37\\lib\\site-packages\\tensorflow_estimator\\python\\estimator\\inputs\\queues\\feeding_queue_runner.py:62: QueueRunner.__init__ (from tensorflow.python.training.queue_runner_impl) is deprecated and will be removed in a future version.\n",
      "Instructions for updating:\n",
      "To construct input pipelines, use the `tf.data` module.\n",
      "WARNING:tensorflow:From c:\\program files\\python37\\lib\\site-packages\\tensorflow_estimator\\python\\estimator\\inputs\\queues\\feeding_functions.py:500: add_queue_runner (from tensorflow.python.training.queue_runner_impl) is deprecated and will be removed in a future version.\n",
      "Instructions for updating:\n",
      "To construct input pipelines, use the `tf.data` module.\n",
      "INFO:tensorflow:Calling model_fn.\n",
      "WARNING:tensorflow:From c:\\program files\\python37\\lib\\site-packages\\tensorflow\\python\\feature_column\\feature_column_v2.py:2655: add_dispatch_support.<locals>.wrapper (from tensorflow.python.ops.array_ops) is deprecated and will be removed in a future version.\n",
      "Instructions for updating:\n",
      "Use tf.where in 2.0, which has the same broadcast rule as np.where\n",
      "WARNING:tensorflow:From c:\\program files\\python37\\lib\\site-packages\\tensorflow_estimator\\python\\estimator\\canned\\linear.py:308: to_float (from tensorflow.python.ops.math_ops) is deprecated and will be removed in a future version.\n",
      "Instructions for updating:\n",
      "Use `tf.cast` instead.\n",
      "INFO:tensorflow:Done calling model_fn.\n",
      "INFO:tensorflow:Create CheckpointSaverHook.\n",
      "INFO:tensorflow:Graph was finalized.\n",
      "INFO:tensorflow:Running local_init_op.\n",
      "INFO:tensorflow:Done running local_init_op.\n",
      "WARNING:tensorflow:From c:\\program files\\python37\\lib\\site-packages\\tensorflow\\python\\training\\monitored_session.py:875: start_queue_runners (from tensorflow.python.training.queue_runner_impl) is deprecated and will be removed in a future version.\n",
      "Instructions for updating:\n",
      "To construct input pipelines, use the `tf.data` module.\n",
      "INFO:tensorflow:Saving checkpoints for 0 into C:\\Users\\DeLL\\AppData\\Local\\Temp\\tmpxt57zyfv\\model.ckpt.\n",
      "INFO:tensorflow:loss = 69.31472, step = 1\n",
      "INFO:tensorflow:global_step/sec: 63.7835\n",
      "INFO:tensorflow:loss = 137.24228, step = 101 (1.575 sec)\n",
      "INFO:tensorflow:global_step/sec: 152.381\n",
      "INFO:tensorflow:loss = 293.32385, step = 201 (0.657 sec)\n",
      "INFO:tensorflow:global_step/sec: 148.027\n",
      "INFO:tensorflow:loss = 1439.7073, step = 301 (0.672 sec)\n",
      "INFO:tensorflow:global_step/sec: 147.48\n",
      "INFO:tensorflow:loss = 293.4024, step = 401 (0.684 sec)\n",
      "INFO:tensorflow:global_step/sec: 157.708\n",
      "INFO:tensorflow:loss = 87.887314, step = 501 (0.633 sec)\n",
      "INFO:tensorflow:global_step/sec: 144.066\n",
      "INFO:tensorflow:loss = 157.41965, step = 601 (0.696 sec)\n",
      "INFO:tensorflow:global_step/sec: 151.92\n",
      "INFO:tensorflow:loss = 48.44636, step = 701 (0.653 sec)\n",
      "INFO:tensorflow:global_step/sec: 143.24\n",
      "INFO:tensorflow:loss = 104.34614, step = 801 (0.699 sec)\n",
      "INFO:tensorflow:global_step/sec: 154.692\n",
      "INFO:tensorflow:loss = 313.86407, step = 901 (0.645 sec)\n",
      "INFO:tensorflow:global_step/sec: 145.141\n",
      "INFO:tensorflow:loss = 158.67934, step = 1001 (0.691 sec)\n",
      "INFO:tensorflow:global_step/sec: 152.603\n",
      "INFO:tensorflow:loss = 159.97871, step = 1101 (0.656 sec)\n",
      "INFO:tensorflow:global_step/sec: 155.949\n",
      "INFO:tensorflow:loss = 35.442825, step = 1201 (0.640 sec)\n",
      "INFO:tensorflow:global_step/sec: 146.376\n",
      "INFO:tensorflow:loss = 98.862076, step = 1301 (0.682 sec)\n",
      "INFO:tensorflow:global_step/sec: 151.462\n",
      "INFO:tensorflow:loss = 28.269604, step = 1401 (0.660 sec)\n",
      "INFO:tensorflow:global_step/sec: 147.02\n",
      "INFO:tensorflow:loss = 120.12454, step = 1501 (0.684 sec)\n",
      "INFO:tensorflow:global_step/sec: 152.382\n",
      "INFO:tensorflow:loss = 69.16813, step = 1601 (0.652 sec)\n",
      "INFO:tensorflow:global_step/sec: 154.734\n",
      "INFO:tensorflow:loss = 40.01194, step = 1701 (0.647 sec)\n",
      "INFO:tensorflow:global_step/sec: 143.239\n",
      "INFO:tensorflow:loss = 105.28957, step = 1801 (0.699 sec)\n",
      "INFO:tensorflow:global_step/sec: 137.352\n",
      "INFO:tensorflow:loss = 100.27949, step = 1901 (0.729 sec)\n",
      "INFO:tensorflow:global_step/sec: 136.049\n",
      "INFO:tensorflow:loss = 29.604147, step = 2001 (0.735 sec)\n",
      "INFO:tensorflow:global_step/sec: 138.109\n",
      "INFO:tensorflow:loss = 28.30605, step = 2101 (0.722 sec)\n",
      "INFO:tensorflow:global_step/sec: 136.419\n",
      "INFO:tensorflow:loss = 153.7428, step = 2201 (0.733 sec)\n",
      "INFO:tensorflow:global_step/sec: 137.541\n",
      "INFO:tensorflow:loss = 87.5958, step = 2301 (0.728 sec)\n",
      "INFO:tensorflow:global_step/sec: 134.573\n",
      "INFO:tensorflow:loss = 183.4347, step = 2401 (0.743 sec)\n",
      "INFO:tensorflow:global_step/sec: 150.521\n",
      "INFO:tensorflow:loss = 70.68678, step = 2501 (0.664 sec)\n",
      "INFO:tensorflow:global_step/sec: 150.326\n",
      "INFO:tensorflow:loss = 28.112932, step = 2601 (0.664 sec)\n",
      "INFO:tensorflow:global_step/sec: 137.92\n",
      "INFO:tensorflow:loss = 215.44537, step = 2701 (0.781 sec)\n",
      "INFO:tensorflow:global_step/sec: 136.604\n",
      "INFO:tensorflow:loss = 124.20958, step = 2801 (0.677 sec)\n",
      "INFO:tensorflow:global_step/sec: 154.973\n",
      "INFO:tensorflow:loss = 104.27947, step = 2901 (0.643 sec)\n",
      "INFO:tensorflow:global_step/sec: 146.59\n",
      "INFO:tensorflow:loss = 35.73443, step = 3001 (0.683 sec)\n",
      "INFO:tensorflow:global_step/sec: 154.017\n",
      "INFO:tensorflow:loss = 32.749603, step = 3101 (0.651 sec)\n",
      "INFO:tensorflow:global_step/sec: 146.166\n",
      "INFO:tensorflow:loss = 36.688976, step = 3201 (0.678 sec)\n",
      "INFO:tensorflow:global_step/sec: 137.73\n",
      "INFO:tensorflow:loss = 199.62408, step = 3301 (0.731 sec)\n",
      "INFO:tensorflow:global_step/sec: 141.62\n",
      "INFO:tensorflow:loss = 43.46949, step = 3401 (0.702 sec)\n",
      "INFO:tensorflow:global_step/sec: 137.353\n",
      "INFO:tensorflow:loss = 59.92308, step = 3501 (0.730 sec)\n",
      "INFO:tensorflow:global_step/sec: 137.918\n",
      "INFO:tensorflow:loss = 33.045425, step = 3601 (0.727 sec)\n",
      "INFO:tensorflow:global_step/sec: 142.832\n",
      "INFO:tensorflow:loss = 27.577412, step = 3701 (0.701 sec)\n",
      "INFO:tensorflow:global_step/sec: 134.407\n",
      "INFO:tensorflow:loss = 49.99433, step = 3801 (0.743 sec)\n",
      "INFO:tensorflow:global_step/sec: 153.499\n",
      "INFO:tensorflow:loss = 33.43177, step = 3901 (0.652 sec)\n",
      "INFO:tensorflow:global_step/sec: 144.687\n",
      "INFO:tensorflow:loss = 14.410261, step = 4001 (0.692 sec)\n",
      "INFO:tensorflow:global_step/sec: 137.541\n",
      "INFO:tensorflow:loss = 181.76567, step = 4101 (0.728 sec)\n",
      "INFO:tensorflow:global_step/sec: 156.914\n",
      "INFO:tensorflow:loss = 234.84656, step = 4201 (0.635 sec)\n",
      "INFO:tensorflow:global_step/sec: 166.277\n",
      "INFO:tensorflow:loss = 196.80626, step = 4301 (0.601 sec)\n",
      "INFO:tensorflow:global_step/sec: 158.496\n",
      "INFO:tensorflow:loss = 329.9566, step = 4401 (0.627 sec)\n",
      "INFO:tensorflow:global_step/sec: 156.09\n",
      "INFO:tensorflow:loss = 112.22968, step = 4501 (0.643 sec)\n",
      "INFO:tensorflow:global_step/sec: 159.408\n",
      "INFO:tensorflow:loss = 32.30898, step = 4601 (0.628 sec)\n",
      "INFO:tensorflow:global_step/sec: 152.614\n",
      "INFO:tensorflow:loss = 138.80986, step = 4701 (0.656 sec)\n",
      "INFO:tensorflow:global_step/sec: 147.969\n",
      "INFO:tensorflow:loss = 43.02516, step = 4801 (0.675 sec)\n",
      "INFO:tensorflow:global_step/sec: 156.821\n",
      "INFO:tensorflow:loss = 406.9218, step = 4901 (0.640 sec)\n",
      "INFO:tensorflow:global_step/sec: 159.401\n",
      "INFO:tensorflow:loss = 34.290436, step = 5001 (0.624 sec)\n",
      "INFO:tensorflow:global_step/sec: 151.468\n",
      "INFO:tensorflow:loss = 27.146008, step = 5101 (0.660 sec)\n",
      "INFO:tensorflow:global_step/sec: 153.549\n",
      "INFO:tensorflow:loss = 29.971481, step = 5201 (0.653 sec)\n",
      "INFO:tensorflow:global_step/sec: 133.69\n",
      "INFO:tensorflow:loss = 48.896484, step = 5301 (0.747 sec)\n",
      "INFO:tensorflow:global_step/sec: 142.831\n",
      "INFO:tensorflow:loss = 99.48199, step = 5401 (0.700 sec)\n",
      "INFO:tensorflow:global_step/sec: 140.431\n",
      "INFO:tensorflow:loss = 202.2571, step = 5501 (0.712 sec)\n",
      "INFO:tensorflow:global_step/sec: 147.419\n",
      "INFO:tensorflow:loss = 37.53474, step = 5601 (0.676 sec)\n",
      "INFO:tensorflow:global_step/sec: 156.668\n",
      "INFO:tensorflow:loss = 69.38199, step = 5701 (0.640 sec)\n",
      "INFO:tensorflow:global_step/sec: 158.151\n",
      "INFO:tensorflow:loss = 26.384697, step = 5801 (0.632 sec)\n",
      "INFO:tensorflow:global_step/sec: 157.654\n",
      "INFO:tensorflow:loss = 43.94527, step = 5901 (0.636 sec)\n"
     ]
    },
    {
     "name": "stdout",
     "output_type": "stream",
     "text": [
      "INFO:tensorflow:global_step/sec: 144.27\n",
      "INFO:tensorflow:loss = 66.849045, step = 6001 (0.692 sec)\n",
      "INFO:tensorflow:global_step/sec: 150.326\n",
      "INFO:tensorflow:loss = 59.937576, step = 6101 (0.664 sec)\n",
      "INFO:tensorflow:global_step/sec: 159.408\n",
      "INFO:tensorflow:loss = 38.311104, step = 6201 (0.627 sec)\n",
      "INFO:tensorflow:global_step/sec: 157.653\n",
      "INFO:tensorflow:loss = 67.98141, step = 6301 (0.634 sec)\n",
      "INFO:tensorflow:global_step/sec: 163.037\n",
      "INFO:tensorflow:loss = 35.792946, step = 6401 (0.612 sec)\n",
      "INFO:tensorflow:global_step/sec: 162.508\n",
      "INFO:tensorflow:loss = 95.60056, step = 6501 (0.616 sec)\n",
      "INFO:tensorflow:global_step/sec: 163.836\n",
      "INFO:tensorflow:loss = 61.79322, step = 6601 (0.610 sec)\n",
      "INFO:tensorflow:global_step/sec: 159.662\n",
      "INFO:tensorflow:loss = 32.746704, step = 6701 (0.625 sec)\n",
      "INFO:tensorflow:global_step/sec: 153.315\n",
      "INFO:tensorflow:loss = 42.36052, step = 6801 (0.654 sec)\n",
      "INFO:tensorflow:global_step/sec: 151.691\n",
      "INFO:tensorflow:loss = 43.89246, step = 6901 (0.662 sec)\n",
      "INFO:tensorflow:global_step/sec: 160.427\n",
      "INFO:tensorflow:loss = 26.436646, step = 7001 (0.619 sec)\n",
      "INFO:tensorflow:global_step/sec: 152.614\n",
      "INFO:tensorflow:loss = 30.732512, step = 7101 (0.656 sec)\n",
      "INFO:tensorflow:global_step/sec: 151.674\n",
      "INFO:tensorflow:loss = 32.289513, step = 7201 (0.662 sec)\n",
      "INFO:tensorflow:global_step/sec: 150.343\n",
      "INFO:tensorflow:loss = 83.72248, step = 7301 (0.664 sec)\n",
      "INFO:tensorflow:global_step/sec: 136.604\n",
      "INFO:tensorflow:loss = 81.438095, step = 7401 (0.730 sec)\n",
      "INFO:tensorflow:global_step/sec: 137.919\n",
      "INFO:tensorflow:loss = 50.493362, step = 7501 (0.727 sec)\n",
      "INFO:tensorflow:global_step/sec: 141.024\n",
      "INFO:tensorflow:loss = 40.318672, step = 7601 (0.708 sec)\n",
      "INFO:tensorflow:global_step/sec: 134.227\n",
      "INFO:tensorflow:loss = 33.723297, step = 7701 (0.746 sec)\n",
      "INFO:tensorflow:global_step/sec: 135.497\n",
      "INFO:tensorflow:loss = 23.736319, step = 7801 (0.738 sec)\n",
      "INFO:tensorflow:global_step/sec: 145.275\n",
      "INFO:tensorflow:loss = 49.11322, step = 7901 (0.686 sec)\n",
      "INFO:tensorflow:global_step/sec: 160.172\n",
      "INFO:tensorflow:loss = 24.427996, step = 8001 (0.624 sec)\n",
      "INFO:tensorflow:global_step/sec: 151.211\n",
      "INFO:tensorflow:loss = 68.699326, step = 8101 (0.662 sec)\n",
      "INFO:tensorflow:global_step/sec: 156.155\n",
      "INFO:tensorflow:loss = 32.603455, step = 8201 (0.638 sec)\n",
      "INFO:tensorflow:global_step/sec: 148.808\n",
      "INFO:tensorflow:loss = 26.10209, step = 8301 (0.676 sec)\n",
      "INFO:tensorflow:global_step/sec: 135.314\n",
      "INFO:tensorflow:loss = 31.884745, step = 8401 (0.737 sec)\n",
      "INFO:tensorflow:global_step/sec: 140.628\n",
      "INFO:tensorflow:loss = 700.8351, step = 8501 (0.711 sec)\n",
      "INFO:tensorflow:global_step/sec: 137.165\n",
      "INFO:tensorflow:loss = 38.18051, step = 8601 (0.729 sec)\n",
      "INFO:tensorflow:global_step/sec: 149.592\n",
      "INFO:tensorflow:loss = 41.559963, step = 8701 (0.666 sec)\n",
      "INFO:tensorflow:global_step/sec: 155.706\n",
      "INFO:tensorflow:loss = 31.539618, step = 8801 (0.644 sec)\n",
      "INFO:tensorflow:global_step/sec: 134.767\n",
      "INFO:tensorflow:loss = 66.29239, step = 8901 (0.740 sec)\n",
      "INFO:tensorflow:global_step/sec: 136.606\n",
      "INFO:tensorflow:loss = 70.90586, step = 9001 (0.734 sec)\n",
      "INFO:tensorflow:global_step/sec: 136.604\n",
      "INFO:tensorflow:loss = 60.222775, step = 9101 (0.731 sec)\n",
      "INFO:tensorflow:global_step/sec: 140.232\n",
      "INFO:tensorflow:loss = 65.5071, step = 9201 (0.715 sec)\n",
      "INFO:tensorflow:global_step/sec: 137.922\n",
      "INFO:tensorflow:loss = 63.894142, step = 9301 (0.723 sec)\n",
      "INFO:tensorflow:global_step/sec: 137.492\n",
      "INFO:tensorflow:loss = 45.282623, step = 9401 (0.727 sec)\n",
      "INFO:tensorflow:global_step/sec: 148.758\n",
      "INFO:tensorflow:loss = 32.01434, step = 9501 (0.672 sec)\n",
      "INFO:tensorflow:global_step/sec: 154.495\n",
      "INFO:tensorflow:loss = 67.60879, step = 9601 (0.647 sec)\n",
      "INFO:tensorflow:global_step/sec: 152.848\n",
      "INFO:tensorflow:loss = 33.31857, step = 9701 (0.655 sec)\n",
      "INFO:tensorflow:global_step/sec: 167.095\n",
      "INFO:tensorflow:loss = 124.13882, step = 9801 (0.597 sec)\n",
      "INFO:tensorflow:global_step/sec: 157.917\n",
      "INFO:tensorflow:loss = 42.291893, step = 9901 (0.633 sec)\n",
      "INFO:tensorflow:Saving checkpoints for 10000 into C:\\Users\\DeLL\\AppData\\Local\\Temp\\tmpxt57zyfv\\model.ckpt.\n",
      "INFO:tensorflow:Loss for final step: 36.24659.\n"
     ]
    },
    {
     "data": {
      "text/plain": [
       "<tensorflow_estimator.python.estimator.canned.linear.LinearClassifier at 0x15834217978>"
      ]
     },
     "execution_count": 24,
     "metadata": {},
     "output_type": "execute_result"
    }
   ],
   "source": [
    "model.train(input_fn=input_func,steps=10000)"
   ]
  },
  {
   "cell_type": "code",
   "execution_count": 26,
   "metadata": {},
   "outputs": [],
   "source": [
    "pred_fun = tf.estimator.inputs.pandas_input_fn(x=X_test,batch_size=len(X_test),shuffle=False)"
   ]
  },
  {
   "cell_type": "code",
   "execution_count": 27,
   "metadata": {
    "collapsed": true
   },
   "outputs": [
    {
     "name": "stdout",
     "output_type": "stream",
     "text": [
      "INFO:tensorflow:Calling model_fn.\n",
      "INFO:tensorflow:Done calling model_fn.\n",
      "INFO:tensorflow:Graph was finalized.\n",
      "WARNING:tensorflow:From c:\\program files\\python37\\lib\\site-packages\\tensorflow\\python\\training\\saver.py:1276: checkpoint_exists (from tensorflow.python.training.checkpoint_management) is deprecated and will be removed in a future version.\n",
      "Instructions for updating:\n",
      "Use standard file APIs to check for files with this prefix.\n",
      "INFO:tensorflow:Restoring parameters from C:\\Users\\DeLL\\AppData\\Local\\Temp\\tmpxt57zyfv\\model.ckpt-10000\n",
      "INFO:tensorflow:Running local_init_op.\n",
      "INFO:tensorflow:Done running local_init_op.\n"
     ]
    }
   ],
   "source": [
    "prediction = list(model.predict(input_fn=pred_fun))"
   ]
  },
  {
   "cell_type": "code",
   "execution_count": 29,
   "metadata": {},
   "outputs": [],
   "source": [
    "final_preds = []\n",
    "for pred in prediction:\n",
    "    final_preds.append(pred['class_ids'][0])"
   ]
  },
  {
   "cell_type": "code",
   "execution_count": 30,
   "metadata": {},
   "outputs": [
    {
     "data": {
      "text/plain": [
       "[0, 0, 0, 0, 1, 0, 0, 0, 0, 0]"
      ]
     },
     "execution_count": 30,
     "metadata": {},
     "output_type": "execute_result"
    }
   ],
   "source": [
    "final_preds[:10]"
   ]
  },
  {
   "cell_type": "code",
   "execution_count": 31,
   "metadata": {},
   "outputs": [],
   "source": [
    "from sklearn.metrics import classification_report"
   ]
  },
  {
   "cell_type": "code",
   "execution_count": 33,
   "metadata": {},
   "outputs": [
    {
     "name": "stdout",
     "output_type": "stream",
     "text": [
      "              precision    recall  f1-score   support\n",
      "\n",
      "           0       0.87      0.93      0.90      7436\n",
      "           1       0.72      0.58      0.64      2333\n",
      "\n",
      "   micro avg       0.84      0.84      0.84      9769\n",
      "   macro avg       0.80      0.75      0.77      9769\n",
      "weighted avg       0.84      0.84      0.84      9769\n",
      "\n"
     ]
    }
   ],
   "source": [
    "print(classification_report(y_test,final_preds))"
   ]
  },
  {
   "cell_type": "code",
   "execution_count": null,
   "metadata": {},
   "outputs": [],
   "source": []
  }
 ],
 "metadata": {
  "kernelspec": {
   "display_name": "Python 3",
   "language": "python",
   "name": "python3"
  },
  "language_info": {
   "codemirror_mode": {
    "name": "ipython",
    "version": 3
   },
   "file_extension": ".py",
   "mimetype": "text/x-python",
   "name": "python",
   "nbconvert_exporter": "python",
   "pygments_lexer": "ipython3",
   "version": "3.7.0"
  }
 },
 "nbformat": 4,
 "nbformat_minor": 2
}
